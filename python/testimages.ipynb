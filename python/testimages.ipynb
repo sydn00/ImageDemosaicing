{
 "cells": [
  {
   "cell_type": "code",
   "execution_count": 7,
   "id": "1e726f10",
   "metadata": {},
   "outputs": [
    {
     "data": {
      "image/png": "[encoded data removed]",
      "text/plain": [
       "<PIL.Image.Image image mode=RGB size=450x450 at 0x7F6F936A4310>"
      ]
     },
     "metadata": {},
     "output_type": "display_data"
    }
   ],
   "source": [
    "from PIL import Image, ImageDraw\n",
    "img = Image.new(\"RGB\", (450, 450), (0, 0, 0))\n",
    "draw = ImageDraw.Draw(img)\n",
    "width = 2\n",
    "\n",
    "# squares\n",
    "draw.rectangle([(50,50),(100,100)],outline=(255, 255, 255),width=width)\n",
    "draw.rectangle([(150,50),(200,100)],outline=(255, 0, 0),width=width)\n",
    "draw.rectangle([(250,50),(300,100)],outline=(0, 255, 0),width=width)\n",
    "draw.rectangle([(350,50),(400,100)],outline=(0, 0, 255),width=width)\n",
    "\n",
    "# circles\n",
    "draw.ellipse((50, 150, 100, 200), outline=(255, 255, 255),width=width)\n",
    "draw.ellipse((150, 150, 200, 200), outline=(255, 0, 0),width=width)\n",
    "draw.ellipse((250, 150, 300, 200), outline=(0, 255, 0),width=width)\n",
    "draw.ellipse((350, 150, 400, 200), outline=(0, 0, 255),width=width)\n",
    "\n",
    "# crosses\n",
    "draw.line(( 50, 275, 100, 275), fill=(255, 255, 255), width=width)\n",
    "draw.line(( 75, 250,  75, 300), fill=(255, 255, 255), width=width)\n",
    "draw.line((150, 275, 200, 275), fill=(255, 0, 0), width=width)\n",
    "draw.line((175, 250, 175, 300), fill=(255, 0, 0), width=width)\n",
    "draw.line((250, 275, 300, 275), fill=(0, 255, 0), width=width)\n",
    "draw.line((275, 250, 275, 300), fill=(0, 255, 0), width=width)\n",
    "draw.line((350, 275, 400, 275), fill=(0, 0, 255), width=width)\n",
    "draw.line((375, 250, 375, 300), fill=(0, 0, 255), width=width)\n",
    "\n",
    "# line series\n",
    "v = 50\n",
    "for size in range(0, 6):\n",
    "    draw.line(( v, 350, v, 400), fill=(255, 255, 255), width=width)\n",
    "    v+=size*2\n",
    "    draw.line(( v, 350, v, 400), fill=(255, 255, 255), width=width)\n",
    "    v+=size*2\n",
    "\n",
    "v = 150\n",
    "for size in range(0, 6):\n",
    "    draw.line(( v, 350, v, 400), fill=(255, 0, 0), width=width)\n",
    "    v+=size*2\n",
    "    draw.line(( v, 350, v, 400), fill=(255, 0, 0), width=width)\n",
    "    v+=size*2\n",
    "\n",
    "v = 250\n",
    "for size in range(0, 6):\n",
    "    draw.line(( v, 350, v, 400), fill=(0, 255, 0), width=width)\n",
    "    v+=size*2\n",
    "    draw.line(( v, 350, v, 400), fill=(0, 255, 0), width=width)\n",
    "    v+=size*2\n",
    "\n",
    "v = 350\n",
    "for size in range(0, 6):\n",
    "    draw.line(( v, 350, v, 400), fill=(0, 0, 255), width=width)\n",
    "    v+=size*2\n",
    "    draw.line(( v, 350, v, 400), fill=(0, 0, 255), width=width)\n",
    "    v+=size*2\n",
    "\n",
    "display(img)\n",
    "img.save(\"../assets/shapes.ppm\")"
   ]
  },
  {
   "cell_type": "code",
   "execution_count": 8,
   "id": "6a55ce94",
   "metadata": {},
   "outputs": [
    {
     "data": {
      "image/png": "[encoded data removed]",
      "text/plain": [
       "<PIL.Image.Image image mode=RGB size=450x450 at 0x7F6F936A4310>"
      ]
     },
     "metadata": {},
     "output_type": "display_data"
    }
   ],
   "source": [
    "#converting the image into CFA(Bayer) as GRBG pattern\n",
    "for x in range(0,450,2):\n",
    "    for y in range(0,450,2):\n",
    "        r11,g11,b11 = img.getpixel((x,y)) \n",
    "        img.putpixel((x,y),(0,g11,0))\n",
    "\n",
    "        r21,g21,b21 = img.getpixel((x+1,y)) \n",
    "        img.putpixel((x+1,y),(r21,0,0))\n",
    "\n",
    "        r12,g12,b12 = img.getpixel((x,y+1)) \n",
    "        img.putpixel((x,y+1),(0,0,b12))\n",
    "\n",
    "        r22,g22,b22 = img.getpixel((x+1,y+1)) \n",
    "        img.putpixel((x+1,y+1),(0,g22,0))\n",
    "\n",
    "display(img)\n",
    "img.save(\"../assets/RAWshapes.ppm\")"
   ]
  },
  {
   "cell_type": "code",
   "execution_count": null,
   "id": "d2cbfae2",
   "metadata": {},
   "outputs": [],
   "source": []
  }
 ],
 "metadata": {
  "kernelspec": {
   "display_name": "Python 3.8.10 64-bit",
   "language": "python",
   "name": "python3"
  },
  "language_info": {
   "codemirror_mode": {
    "name": "ipython",
    "version": 3
   },
   "file_extension": ".py",
   "mimetype": "text/x-python",
   "name": "python",
   "nbconvert_exporter": "python",
   "pygments_lexer": "ipython3",
   "version": "3.8.10"
  },
  "vscode": {
   "interpreter": {
    "hash": "916dbcbb3f70747c44a77c7bcd40155683ae19c65e1c03b4aa3499c5328201f1"
   }
  }
 },
 "nbformat": 4,
 "nbformat_minor": 5
}

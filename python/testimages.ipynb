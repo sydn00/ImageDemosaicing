{
 "cells": [
  {
   "cell_type": "code",
   "execution_count": null,
   "id": "1e726f10",
   "metadata": {},
   "outputs": [
    {
     "ename": "",
     "evalue": "",
     "output_type": "error",
     "traceback": [
      "\u001b[1;31mJupyter cannot be started. Error attempting to locate Jupyter: Running cells requires jupyter and notebook package.\n",
      "\u001b[1;31mRun the following command to install 'jupyter and notebook' into the Python environment. \n",
      "\u001b[1;31mCommand: 'python -m pip install jupyter notebook -U\n",
      "\u001b[1;31mor\n",
      "\u001b[1;31mconda install jupyter notebook -U'\n",
      "\u001b[1;31mClick <a href='https://aka.ms/installJupyterForVSCode'>here</a> for more info."
     ]
    }
   ],
   "source": [
    "from PIL import Image, ImageDraw\n",
    "\n",
    "# Create an Image with different Shapes on it\n",
    "def CreateShapeImage(OutputFileName):\n",
    "    img = Image.new(\"RGB\", (450, 450), (0, 0, 0))\n",
    "    draw = ImageDraw.Draw(img)\n",
    "    width = 2\n",
    "\n",
    "    # squares\n",
    "    draw.rectangle([(50,50),(100,100)],outline=(255, 255, 255),width=width)\n",
    "    draw.rectangle([(150,50),(200,100)],outline=(255, 0, 0),width=width)\n",
    "    draw.rectangle([(250,50),(300,100)],outline=(0, 255, 0),width=width)\n",
    "    draw.rectangle([(350,50),(400,100)],outline=(0, 0, 255),width=width)\n",
    "\n",
    "    # circles\n",
    "    draw.ellipse((50, 150, 100, 200), outline=(255, 255, 255),width=width)\n",
    "    draw.ellipse((150, 150, 200, 200), outline=(255, 0, 0),width=width)\n",
    "    draw.ellipse((250, 150, 300, 200), outline=(0, 255, 0),width=width)\n",
    "    draw.ellipse((350, 150, 400, 200), outline=(0, 0, 255),width=width)\n",
    "\n",
    "    # crosses\n",
    "    draw.line(( 50, 275, 100, 275), fill=(255, 255, 255), width=width)\n",
    "    draw.line(( 75, 250,  75, 300), fill=(255, 255, 255), width=width)\n",
    "    draw.line((150, 275, 200, 275), fill=(255, 0, 0), width=width)\n",
    "    draw.line((175, 250, 175, 300), fill=(255, 0, 0), width=width)\n",
    "    draw.line((250, 275, 300, 275), fill=(0, 255, 0), width=width)\n",
    "    draw.line((275, 250, 275, 300), fill=(0, 255, 0), width=width)\n",
    "    draw.line((350, 275, 400, 275), fill=(0, 0, 255), width=width)\n",
    "    draw.line((375, 250, 375, 300), fill=(0, 0, 255), width=width)\n",
    "\n",
    "    # line series\n",
    "    v = 50\n",
    "    for size in range(0, 6):\n",
    "        draw.line(( v, 350, v, 400), fill=(255, 255, 255), width=width)\n",
    "        v+=size*2\n",
    "        draw.line(( v, 350, v, 400), fill=(255, 255, 255), width=width)\n",
    "        v+=size*2\n",
    "\n",
    "    v = 150\n",
    "    for size in range(0, 6):\n",
    "        draw.line(( v, 350, v, 400), fill=(255, 0, 0), width=width)\n",
    "        v+=size*2\n",
    "        draw.line(( v, 350, v, 400), fill=(255, 0, 0), width=width)\n",
    "        v+=size*2\n",
    "\n",
    "    v = 250\n",
    "    for size in range(0, 6):\n",
    "        draw.line(( v, 350, v, 400), fill=(0, 255, 0), width=width)\n",
    "        v+=size*2\n",
    "        draw.line(( v, 350, v, 400), fill=(0, 255, 0), width=width)\n",
    "        v+=size*2\n",
    "\n",
    "    v = 350\n",
    "    for size in range(0, 6):\n",
    "        draw.line(( v, 350, v, 400), fill=(0, 0, 255), width=width)\n",
    "        v+=size*2\n",
    "        draw.line(( v, 350, v, 400), fill=(0, 0, 255), width=width)\n",
    "        v+=size*2\n",
    "\n",
    "    img.save(OutputFileName)\n",
    "    \n",
    "\n",
    "\n",
    "\n",
    "\n",
    "#converting the image into CFA(Bayer) as GRBG pattern\n",
    "def Convert2Bayer(inputFileName, OutputFileName):\n",
    "    img = Image.open(inputFileName)\n",
    "    \n",
    "    for x in range(0,img.width,2):\n",
    "        for y in range(0,img.height,2):\n",
    "            r11,g11,b11 = img.getpixel((x,y)) \n",
    "            img.putpixel((x,y),(0,g11,0))\n",
    "\n",
    "            r21,g21,b21 = img.getpixel((x+1,y)) \n",
    "            img.putpixel((x+1,y),(r21,0,0))\n",
    "\n",
    "            r12,g12,b12 = img.getpixel((x,y+1)) \n",
    "            img.putpixel((x,y+1),(0,0,b12))\n",
    "\n",
    "            r22,g22,b22 = img.getpixel((x+1,y+1)) \n",
    "            img.putpixel((x+1,y+1),(0,g22,0))\n",
    "\n",
    "    img.save(OutputFileName)"
   ]
  },
  {
   "cell_type": "code",
   "execution_count": 2,
   "id": "6a55ce94",
   "metadata": {},
   "outputs": [],
   "source": [
    "#Creating shape image and converting it to bayer CFA\n",
    "CreateShapeImage(\"../asset/Shapes/shapes.ppm\")\n",
    "Convert2Bayer(\"../assets/Shapes/shapes.ppm\",\"../assets/Shapes/RAWshapes.ppm\")\n",
    "\n",
    "#Converting beatiful landscape to Bayer CFA\n",
    "Convert2Bayer(\"../assets/Landscape/Monschau.jpg\",\"../assets/Landscape/RAWMonschau.ppm\")"
   ]
  },
  {
   "cell_type": "code",
   "execution_count": null,
   "id": "bb09bd3d",
   "metadata": {},
   "outputs": [],
   "source": []
  }
 ],
 "metadata": {
  "kernelspec": {
   "display_name": "Python 3",
   "language": "python",
   "name": "python3"
  },
  "language_info": {
   "codemirror_mode": {
    "name": "ipython",
    "version": 3
   },
   "file_extension": ".py",
   "mimetype": "text/x-python",
   "name": "python",
   "nbconvert_exporter": "python",
   "pygments_lexer": "ipython3",
   "version": "3.8.10"
  },
  "vscode": {
   "interpreter": {
    "hash": "31f2aee4e71d21fbe5cf8b01ff0e069b9275f58929596ceb00d14d90e3e16cd6"
   }
  }
 },
 "nbformat": 4,
 "nbformat_minor": 5
}

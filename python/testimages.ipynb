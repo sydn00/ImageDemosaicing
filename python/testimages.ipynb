{
 "cells": [
  {
   "cell_type": "code",
   "execution_count": 1,
   "id": "1e726f10",
   "metadata": {},
   "outputs": [],
   "source": [
    "from PIL import Image, ImageDraw\n",
    "\n",
    "# Create an Image with different Shapes on it\n",
    "def CreateShapeImage(OutputFileName):\n",
    "    img = Image.new(\"RGB\", (450, 450), (0, 0, 0))\n",
    "    draw = ImageDraw.Draw(img)\n",
    "    width = 2     # line width\n",
    "\n",
    "    # squares\n",
    "    draw.rectangle([(50,50),(100,100)],outline=(255, 255, 255),width=width)\n",
    "    draw.rectangle([(150,50),(200,100)],outline=(255, 0, 0),width=width)\n",
    "    draw.rectangle([(250,50),(300,100)],outline=(0, 255, 0),width=width)\n",
    "    draw.rectangle([(350,50),(400,100)],outline=(0, 0, 255),width=width)\n",
    "\n",
    "    # circles\n",
    "    draw.ellipse((50, 150, 100, 200), outline=(255, 255, 255),width=width)\n",
    "    draw.ellipse((150, 150, 200, 200), outline=(255, 0, 0),width=width)\n",
    "    draw.ellipse((250, 150, 300, 200), outline=(0, 255, 0),width=width)\n",
    "    draw.ellipse((350, 150, 400, 200), outline=(0, 0, 255),width=width)\n",
    "\n",
    "    # crosses\n",
    "    draw.line(( 50, 275, 100, 275), fill=(255, 255, 255), width=width)\n",
    "    draw.line(( 75, 250,  75, 300), fill=(255, 255, 255), width=width)\n",
    "    draw.line((150, 275, 200, 275), fill=(255, 0, 0), width=width)\n",
    "    draw.line((175, 250, 175, 300), fill=(255, 0, 0), width=width)\n",
    "    draw.line((250, 275, 300, 275), fill=(0, 255, 0), width=width)\n",
    "    draw.line((275, 250, 275, 300), fill=(0, 255, 0), width=width)\n",
    "    draw.line((350, 275, 400, 275), fill=(0, 0, 255), width=width)\n",
    "    draw.line((375, 250, 375, 300), fill=(0, 0, 255), width=width)\n",
    "\n",
    "    # line series\n",
    "    v = 50\n",
    "    for size in range(0, 6):\n",
    "        draw.line(( v, 350, v, 400), fill=(255, 255, 255), width=width)\n",
    "        v+=size*2\n",
    "        draw.line(( v, 350, v, 400), fill=(255, 255, 255), width=width)\n",
    "        v+=size*2\n",
    "\n",
    "    v = 150\n",
    "    for size in range(0, 6):\n",
    "        draw.line(( v, 350, v, 400), fill=(255, 0, 0), width=width)\n",
    "        v+=size*2\n",
    "        draw.line(( v, 350, v, 400), fill=(255, 0, 0), width=width)\n",
    "        v+=size*2\n",
    "\n",
    "    v = 250\n",
    "    for size in range(0, 6):\n",
    "        draw.line(( v, 350, v, 400), fill=(0, 255, 0), width=width)\n",
    "        v+=size*2\n",
    "        draw.line(( v, 350, v, 400), fill=(0, 255, 0), width=width)\n",
    "        v+=size*2\n",
    "\n",
    "    v = 350\n",
    "    for size in range(0, 6):\n",
    "        draw.line(( v, 350, v, 400), fill=(0, 0, 255), width=width)\n",
    "        v+=size*2\n",
    "        draw.line(( v, 350, v, 400), fill=(0, 0, 255), width=width)\n",
    "        v+=size*2\n",
    "\n",
    "    img.save(OutputFileName)\n",
    "    \n",
    "\n",
    "\n",
    "\n",
    "\n",
    "#converting the image into CFA(Bayer) as GRBG pattern\n",
    "def Convert2Bayer(inputFileName, OutputFileName):\n",
    "    img = Image.open(inputFileName)\n",
    "    \n",
    "    for x in range(0,img.width,2):\n",
    "        for y in range(0,img.height,2):\n",
    "            r11,g11,b11 = img.getpixel((x,y)) \n",
    "            img.putpixel((x,y),(0,g11,0))\n",
    "\n",
    "            r21,g21,b21 = img.getpixel((x+1,y)) \n",
    "            img.putpixel((x+1,y),(r21,0,0))\n",
    "\n",
    "            r12,g12,b12 = img.getpixel((x,y+1)) \n",
    "            img.putpixel((x,y+1),(0,0,b12))\n",
    "\n",
    "            r22,g22,b22 = img.getpixel((x+1,y+1)) \n",
    "            img.putpixel((x+1,y+1),(0,g22,0))\n",
    "\n",
    "    img.save(OutputFileName)"
   ]
  },
  {
   "cell_type": "code",
   "execution_count": 3,
   "id": "6a55ce94",
   "metadata": {},
   "outputs": [
    {
     "ename": "ValueError",
     "evalue": "unknown file extension: .svg",
     "output_type": "error",
     "traceback": [
      "\u001b[0;31m---------------------------------------------------------------------------\u001b[0m",
      "\u001b[0;31mKeyError\u001b[0m                                  Traceback (most recent call last)",
      "File \u001b[0;32m/usr/lib/python3/dist-packages/PIL/Image.py:2082\u001b[0m, in \u001b[0;36mImage.save\u001b[0;34m(self, fp, format, **params)\u001b[0m\n\u001b[1;32m   2081\u001b[0m \u001b[39mtry\u001b[39;00m:\n\u001b[0;32m-> 2082\u001b[0m     \u001b[39mformat\u001b[39m \u001b[39m=\u001b[39m EXTENSION[ext]\n\u001b[1;32m   2083\u001b[0m \u001b[39mexcept\u001b[39;00m \u001b[39mKeyError\u001b[39;00m:\n",
      "\u001b[0;31mKeyError\u001b[0m: '.svg'",
      "\nDuring handling of the above exception, another exception occurred:\n",
      "\u001b[0;31mValueError\u001b[0m                                Traceback (most recent call last)",
      "Cell \u001b[0;32mIn[3], line 6\u001b[0m\n\u001b[1;32m      3\u001b[0m Convert2Bayer(\u001b[39m\"\u001b[39m\u001b[39m../assets/Shapes/shapes.ppm\u001b[39m\u001b[39m\"\u001b[39m,\u001b[39m\"\u001b[39m\u001b[39m../assets/Shapes/RAWshapes.ppm\u001b[39m\u001b[39m\"\u001b[39m)\n\u001b[1;32m      5\u001b[0m \u001b[39m#Converting landscape image to Bayer pattern\u001b[39;00m\n\u001b[0;32m----> 6\u001b[0m Convert2Bayer(\u001b[39m\"\u001b[39;49m\u001b[39m../assets/Landscape/Monschau.jpg\u001b[39;49m\u001b[39m\"\u001b[39;49m,\u001b[39m\"\u001b[39;49m\u001b[39m../assets/Landscape/RAWMonschau.svg\u001b[39;49m\u001b[39m\"\u001b[39;49m)\n",
      "Cell \u001b[0;32mIn[1], line 84\u001b[0m, in \u001b[0;36mConvert2Bayer\u001b[0;34m(inputFileName, OutputFileName)\u001b[0m\n\u001b[1;32m     81\u001b[0m         r22,g22,b22 \u001b[39m=\u001b[39m img\u001b[39m.\u001b[39mgetpixel((x\u001b[39m+\u001b[39m\u001b[39m1\u001b[39m,y\u001b[39m+\u001b[39m\u001b[39m1\u001b[39m)) \n\u001b[1;32m     82\u001b[0m         img\u001b[39m.\u001b[39mputpixel((x\u001b[39m+\u001b[39m\u001b[39m1\u001b[39m,y\u001b[39m+\u001b[39m\u001b[39m1\u001b[39m),(\u001b[39m0\u001b[39m,g22,\u001b[39m0\u001b[39m))\n\u001b[0;32m---> 84\u001b[0m img\u001b[39m.\u001b[39;49msave(OutputFileName)\n",
      "File \u001b[0;32m/usr/lib/python3/dist-packages/PIL/Image.py:2084\u001b[0m, in \u001b[0;36mImage.save\u001b[0;34m(self, fp, format, **params)\u001b[0m\n\u001b[1;32m   2082\u001b[0m         \u001b[39mformat\u001b[39m \u001b[39m=\u001b[39m EXTENSION[ext]\n\u001b[1;32m   2083\u001b[0m     \u001b[39mexcept\u001b[39;00m \u001b[39mKeyError\u001b[39;00m:\n\u001b[0;32m-> 2084\u001b[0m         \u001b[39mraise\u001b[39;00m \u001b[39mValueError\u001b[39;00m(\u001b[39m\"\u001b[39m\u001b[39munknown file extension: \u001b[39m\u001b[39m{}\u001b[39;00m\u001b[39m\"\u001b[39m\u001b[39m.\u001b[39mformat(ext))\n\u001b[1;32m   2086\u001b[0m \u001b[39mif\u001b[39;00m \u001b[39mformat\u001b[39m\u001b[39m.\u001b[39mupper() \u001b[39mnot\u001b[39;00m \u001b[39min\u001b[39;00m SAVE:\n\u001b[1;32m   2087\u001b[0m     init()\n",
      "\u001b[0;31mValueError\u001b[0m: unknown file extension: .svg"
     ]
    }
   ],
   "source": [
    "#Creating shape image and converting it to bayer pattern\n",
    "CreateShapeImage(\"../assets/Shapes/shapes.ppm\")\n",
    "Convert2Bayer(\"../assets/Shapes/shapes.ppm\",\"../assets/Shapes/RAWshapes.ppm\")\n",
    "\n",
    "#Converting landscape image to Bayer pattern\n",
    "Convert2Bayer(\"../assets/Landscape/Monschau.jpg\",\"../assets/Landscape/RAWMonschau.ppm\")\n"
   ]
  }
 ],
 "metadata": {
  "kernelspec": {
   "display_name": "Python 3",
   "language": "python",
   "name": "python3"
  },
  "language_info": {
   "codemirror_mode": {
    "name": "ipython",
    "version": 3
   },
   "file_extension": ".py",
   "mimetype": "text/x-python",
   "name": "python",
   "nbconvert_exporter": "python",
   "pygments_lexer": "ipython3",
   "version": "3.8.10"
  },
  "vscode": {
   "interpreter": {
    "hash": "31f2aee4e71d21fbe5cf8b01ff0e069b9275f58929596ceb00d14d90e3e16cd6"
   }
  }
 },
 "nbformat": 4,
 "nbformat_minor": 5
}

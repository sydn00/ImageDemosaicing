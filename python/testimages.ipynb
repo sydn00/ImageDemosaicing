{
 "cells": [
  {
   "cell_type": "code",
   "execution_count": 5,
   "id": "1e726f10",
   "metadata": {},
   "outputs": [],
   "source": [
    "from PIL import Image, ImageDraw\n",
    "\n",
    "# Create an Image with different Shapes on it\n",
    "def CreateShapeImage(OutputFileName):\n",
    "    img = Image.new(\"RGB\", (450, 450), (0, 0, 0))\n",
    "    draw = ImageDraw.Draw(img)\n",
    "    width = 2\n",
    "\n",
    "    # squares\n",
    "    draw.rectangle([(50,50),(100,100)],outline=(255, 255, 255),width=width)\n",
    "    draw.rectangle([(150,50),(200,100)],outline=(255, 0, 0),width=width)\n",
    "    draw.rectangle([(250,50),(300,100)],outline=(0, 255, 0),width=width)\n",
    "    draw.rectangle([(350,50),(400,100)],outline=(0, 0, 255),width=width)\n",
    "\n",
    "    # circles\n",
    "    draw.ellipse((50, 150, 100, 200), outline=(255, 255, 255),width=width)\n",
    "    draw.ellipse((150, 150, 200, 200), outline=(255, 0, 0),width=width)\n",
    "    draw.ellipse((250, 150, 300, 200), outline=(0, 255, 0),width=width)\n",
    "    draw.ellipse((350, 150, 400, 200), outline=(0, 0, 255),width=width)\n",
    "\n",
    "    # crosses\n",
    "    draw.line(( 50, 275, 100, 275), fill=(255, 255, 255), width=width)\n",
    "    draw.line(( 75, 250,  75, 300), fill=(255, 255, 255), width=width)\n",
    "    draw.line((150, 275, 200, 275), fill=(255, 0, 0), width=width)\n",
    "    draw.line((175, 250, 175, 300), fill=(255, 0, 0), width=width)\n",
    "    draw.line((250, 275, 300, 275), fill=(0, 255, 0), width=width)\n",
    "    draw.line((275, 250, 275, 300), fill=(0, 255, 0), width=width)\n",
    "    draw.line((350, 275, 400, 275), fill=(0, 0, 255), width=width)\n",
    "    draw.line((375, 250, 375, 300), fill=(0, 0, 255), width=width)\n",
    "\n",
    "    # line series\n",
    "    v = 50\n",
    "    for size in range(0, 6):\n",
    "        draw.line(( v, 350, v, 400), fill=(255, 255, 255), width=width)\n",
    "        v+=size*2\n",
    "        draw.line(( v, 350, v, 400), fill=(255, 255, 255), width=width)\n",
    "        v+=size*2\n",
    "\n",
    "    v = 150\n",
    "    for size in range(0, 6):\n",
    "        draw.line(( v, 350, v, 400), fill=(255, 0, 0), width=width)\n",
    "        v+=size*2\n",
    "        draw.line(( v, 350, v, 400), fill=(255, 0, 0), width=width)\n",
    "        v+=size*2\n",
    "\n",
    "    v = 250\n",
    "    for size in range(0, 6):\n",
    "        draw.line(( v, 350, v, 400), fill=(0, 255, 0), width=width)\n",
    "        v+=size*2\n",
    "        draw.line(( v, 350, v, 400), fill=(0, 255, 0), width=width)\n",
    "        v+=size*2\n",
    "\n",
    "    v = 350\n",
    "    for size in range(0, 6):\n",
    "        draw.line(( v, 350, v, 400), fill=(0, 0, 255), width=width)\n",
    "        v+=size*2\n",
    "        draw.line(( v, 350, v, 400), fill=(0, 0, 255), width=width)\n",
    "        v+=size*2\n",
    "\n",
    "    img.save(OutputFileName)\n",
    "    \n",
    "\n",
    "\n",
    "\n",
    "\n",
    "#converting the image into CFA(Bayer) as GRBG pattern\n",
    "def Convert2Bayer(inputFileName, OutputFileName):\n",
    "    img = Image.open(inputFileName)\n",
    "    \n",
    "    for x in range(0,img.width,2):\n",
    "        for y in range(0,img.height,2):\n",
    "            r11,g11,b11 = img.getpixel((x,y)) \n",
    "            img.putpixel((x,y),(0,g11,0))\n",
    "\n",
    "            r21,g21,b21 = img.getpixel((x+1,y)) \n",
    "            img.putpixel((x+1,y),(r21,0,0))\n",
    "\n",
    "            r12,g12,b12 = img.getpixel((x,y+1)) \n",
    "            img.putpixel((x,y+1),(0,0,b12))\n",
    "\n",
    "            r22,g22,b22 = img.getpixel((x+1,y+1)) \n",
    "            img.putpixel((x+1,y+1),(0,g22,0))\n",
    "\n",
    "    img.save(OutputFileName)"
   ]
  },
  {
   "cell_type": "code",
   "execution_count": 7,
   "id": "6a55ce94",
   "metadata": {},
   "outputs": [],
   "source": [
    "#Creating shape image and converting it to bayer CFA\n",
    "CreateShapeImage(\"../assets/Shapes/shapes.ppm\")\n",
    "Convert2Bayer(\"../assets/Shapes/shapes.ppm\",\"../assets/Shapes/RAWshapes.ppm\")\n",
    "\n",
    "#Converting beatiful landscape to Bayer CFA\n",
    "Convert2Bayer(\"../assets/Landscape/Monschau.jpg\",\"../assets/Landscape/RAWMonschau.ppm\")"
   ]
  },
  {
   "cell_type": "code",
   "execution_count": 9,
   "id": "bb09bd3d",
   "metadata": {},
   "outputs": [
    {
     "ename": "FileNotFoundError",
     "evalue": "[Errno 2] No such file or directory: '~/Desktop/RAWMonschau.png'",
     "output_type": "error",
     "traceback": [
      "\u001b[0;31m---------------------------------------------------------------------------\u001b[0m",
      "\u001b[0;31mFileNotFoundError\u001b[0m                         Traceback (most recent call last)",
      "Cell \u001b[0;32mIn[9], line 7\u001b[0m\n\u001b[1;32m      4\u001b[0m ppm_image \u001b[39m=\u001b[39m Image\u001b[39m.\u001b[39mopen(\u001b[39m\"\u001b[39m\u001b[39m../assets/Landscape/RAWMonschau.ppm\u001b[39m\u001b[39m\"\u001b[39m)\n\u001b[1;32m      6\u001b[0m \u001b[39m# Convert the PPM image to JPEG format and save it\u001b[39;00m\n\u001b[0;32m----> 7\u001b[0m ppm_image\u001b[39m.\u001b[39;49msave(\u001b[39m\"\u001b[39;49m\u001b[39m~/Desktop/RAWMonschau.png\u001b[39;49m\u001b[39m\"\u001b[39;49m, \u001b[39m\"\u001b[39;49m\u001b[39mPNG\u001b[39;49m\u001b[39m\"\u001b[39;49m)\n",
      "File \u001b[0;32m/usr/lib/python3/dist-packages/PIL/Image.py:2099\u001b[0m, in \u001b[0;36mImage.save\u001b[0;34m(self, fp, format, **params)\u001b[0m\n\u001b[1;32m   2097\u001b[0m         fp \u001b[39m=\u001b[39m builtins\u001b[39m.\u001b[39mopen(filename, \u001b[39m\"\u001b[39m\u001b[39mr+b\u001b[39m\u001b[39m\"\u001b[39m)\n\u001b[1;32m   2098\u001b[0m     \u001b[39melse\u001b[39;00m:\n\u001b[0;32m-> 2099\u001b[0m         fp \u001b[39m=\u001b[39m builtins\u001b[39m.\u001b[39;49mopen(filename, \u001b[39m\"\u001b[39;49m\u001b[39mw+b\u001b[39;49m\u001b[39m\"\u001b[39;49m)\n\u001b[1;32m   2101\u001b[0m \u001b[39mtry\u001b[39;00m:\n\u001b[1;32m   2102\u001b[0m     save_handler(\u001b[39mself\u001b[39m, fp, filename)\n",
      "\u001b[0;31mFileNotFoundError\u001b[0m: [Errno 2] No such file or directory: '~/Desktop/RAWMonschau.png'"
     ]
    }
   ],
   "source": [
    "#converting files\n",
    "\n",
    "# Open the PPM file\n",
    "ppm_image = Image.open(\"source_file\")\n",
    "\n",
    "# Convert the PPM image to JPEG format and save it\n",
    "ppm_image.save(\"output_file_name.png\", \"PNG\")"
   ]
  }
 ],
 "metadata": {
  "kernelspec": {
   "display_name": "Python 3",
   "language": "python",
   "name": "python3"
  },
  "language_info": {
   "codemirror_mode": {
    "name": "ipython",
    "version": 3
   },
   "file_extension": ".py",
   "mimetype": "text/x-python",
   "name": "python",
   "nbconvert_exporter": "python",
   "pygments_lexer": "ipython3",
   "version": "3.8.10"
  },
  "vscode": {
   "interpreter": {
    "hash": "31f2aee4e71d21fbe5cf8b01ff0e069b9275f58929596ceb00d14d90e3e16cd6"
   }
  }
 },
 "nbformat": 4,
 "nbformat_minor": 5
}
